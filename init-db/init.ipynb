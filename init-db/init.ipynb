{
 "cells": [
  {
   "cell_type": "code",
   "execution_count": 1,
   "metadata": {},
   "outputs": [
    {
     "data": {
      "text/plain": [
       "polars.config.Config"
      ]
     },
     "execution_count": 1,
     "metadata": {},
     "output_type": "execute_result"
    }
   ],
   "source": [
    "from os import environ\n",
    "import httpx\n",
    "import importlib\n",
    "import pathlib\n",
    "import polars as pl\n",
    "import src.fetch\n",
    "import src.ingest\n",
    "import src.transform\n",
    "from dotenv import load_dotenv\n",
    "\n",
    "load_dotenv()\n",
    "\n",
    "## Polars\n",
    "pl.Config.set_fmt_str_lengths(100)\n",
    "pl.Config.set_tbl_rows(100)"
   ]
  },
  {
   "cell_type": "code",
   "execution_count": 2,
   "metadata": {},
   "outputs": [],
   "source": [
    "importlib.reload(src.fetch)\n",
    "fetcher = src.fetch.Fetch(\n",
    "    client=httpx.AsyncClient(),\n",
    "    tiingo_token=environ[\"TIINGO_TOKEN\"],\n",
    "    start_date=\"1995-01-01\",\n",
    "    save_dir=\"data/sample2\",\n",
    "    response_format=\"csv\",\n",
    "    failed_tickers_file=\"failed_tickers.csv\",\n",
    ")\n",
    "\n",
    "if \"duckdb_con\" not in locals():\n",
    "    duckdb_con = src.fetch.get_supported_tickers()"
   ]
  },
  {
   "cell_type": "code",
   "execution_count": 3,
   "metadata": {},
   "outputs": [],
   "source": [
    "src.transform.create_selected_us_tickers_view(duckdb_con)"
   ]
  },
  {
   "cell_type": "code",
   "execution_count": 4,
   "metadata": {},
   "outputs": [
    {
     "data": {
      "text/plain": [
       "┌──────────────┐\n",
       "│ count_star() │\n",
       "│    int64     │\n",
       "├──────────────┤\n",
       "│        16994 │\n",
       "└──────────────┘"
      ]
     },
     "execution_count": 4,
     "metadata": {},
     "output_type": "execute_result"
    }
   ],
   "source": [
    "duckdb_con.sql(\"select count(*) from selected_us_tickers\")"
   ]
  },
  {
   "cell_type": "code",
   "execution_count": 5,
   "metadata": {},
   "outputs": [],
   "source": [
    "df_us_clean = duckdb_con.table(\"selected_us_tickers\").pl()"
   ]
  },
  {
   "cell_type": "code",
   "execution_count": 6,
   "metadata": {},
   "outputs": [
    {
     "data": {
      "text/plain": [
       "(500, 6)"
      ]
     },
     "execution_count": 6,
     "metadata": {},
     "output_type": "execute_result"
    }
   ],
   "source": [
    "seed = 42\n",
    "df_sampled = df_us_clean.sample(500, seed=seed)\n",
    "df_sampled.shape"
   ]
  },
  {
   "cell_type": "code",
   "execution_count": 7,
   "metadata": {},
   "outputs": [],
   "source": [
    "await fetcher.fetch_supported_tickers(\n",
    "    df=df_sampled,\n",
    "    columns=[\"date\", \"adjClose\", \"adjVolume\"],\n",
    ")"
   ]
  },
  {
   "cell_type": "code",
   "execution_count": 13,
   "metadata": {},
   "outputs": [],
   "source": [
    "df_zzz = df_us_clean.filter(\n",
    "    ((pl.col(\"ticker\") == \"ZZZ\") & (pl.col(\"exchange\") == \"NASDAQ\"))\n",
    "    | (pl.col(\"ticker\") == \"AAPL\")\n",
    "    | (pl.col(\"ticker\") == \"CCAI\")\n",
    ")\n",
    "\n",
    "await fetcher.fetch_supported_tickers(\n",
    "    df=df_zzz,\n",
    "    columns=[\"date\", \"adjClose\", \"adjVolume\"],\n",
    ")"
   ]
  },
  {
   "cell_type": "code",
   "execution_count": 10,
   "metadata": {},
   "outputs": [
    {
     "data": {
      "text/plain": [
       "(7022, 6)"
      ]
     },
     "execution_count": 10,
     "metadata": {},
     "output_type": "execute_result"
    }
   ],
   "source": [
    "seed=42\n",
    "df_large = df_us_clean.sample(7022, seed=seed)\n",
    "df_large.shape"
   ]
  },
  {
   "cell_type": "code",
   "execution_count": 11,
   "metadata": {},
   "outputs": [
    {
     "name": "stdout",
     "output_type": "stream",
     "text": [
      "Fetching 0 to 400 of 7022\n"
     ]
    },
    {
     "name": "stderr",
     "output_type": "stream",
     "text": [
      "ERROR:src.fetch:Invalid response for LCI.\n",
      "ERROR:src.fetch:An error occurred while requesting https://api.tiingo.com/tiingo/daily/DGRS/prices?startDate=2013-07-25&endDate=2024-05-10&format=csv&columns=date,adjClose,adjVolume&token=72b7d80c10cbdbdc839fe9556a7a004af06cf83c: [Errno 8] nodename nor servname provided, or not known\n",
      "ERROR:src.fetch:response.text for DGRS is None.\n"
     ]
    },
    {
     "name": "stdout",
     "output_type": "stream",
     "text": [
      "Fetching 400 to 800 of 7022\n"
     ]
    },
    {
     "name": "stderr",
     "output_type": "stream",
     "text": [
      "ERROR:src.fetch:Invalid response for AVYA.\n"
     ]
    },
    {
     "name": "stdout",
     "output_type": "stream",
     "text": [
      "Fetching 800 to 1200 of 7022\n"
     ]
    },
    {
     "name": "stderr",
     "output_type": "stream",
     "text": [
      "ERROR:src.fetch:Invalid response for SUNH.\n",
      "ERROR:src.fetch:Invalid response for VISN.\n"
     ]
    },
    {
     "name": "stdout",
     "output_type": "stream",
     "text": [
      "Fetching 1200 to 1600 of 7022\n"
     ]
    },
    {
     "name": "stderr",
     "output_type": "stream",
     "text": [
      "ERROR:src.fetch:No data found for IGLD.\n",
      "ERROR:src.fetch:Invalid response for PEAK.\n"
     ]
    },
    {
     "name": "stdout",
     "output_type": "stream",
     "text": [
      "Fetching 1600 to 2000 of 7022\n",
      "Fetching 2000 to 2400 of 7022\n",
      "Fetching 2400 to 2800 of 7022\n"
     ]
    },
    {
     "name": "stderr",
     "output_type": "stream",
     "text": [
      "ERROR:src.fetch:No data found for PNT.\n",
      "ERROR:src.fetch:No data found for PCPCW.\n",
      "ERROR:src.fetch:No data found for PKDC.\n"
     ]
    },
    {
     "name": "stdout",
     "output_type": "stream",
     "text": [
      "Fetching 2800 to 3200 of 7022\n"
     ]
    },
    {
     "name": "stderr",
     "output_type": "stream",
     "text": [
      "ERROR:src.fetch:Invalid response for STLRU.\n",
      "ERROR:src.fetch:No data found for MMX.\n",
      "ERROR:src.fetch:Invalid response for SCACU.\n"
     ]
    },
    {
     "name": "stdout",
     "output_type": "stream",
     "text": [
      "Fetching 3200 to 3600 of 7022\n"
     ]
    },
    {
     "name": "stderr",
     "output_type": "stream",
     "text": [
      "ERROR:src.fetch:No data found for GWGHQ.\n",
      "ERROR:src.fetch:No data found for HZON-WS.\n"
     ]
    },
    {
     "name": "stdout",
     "output_type": "stream",
     "text": [
      "Fetching 3600 to 4000 of 7022\n"
     ]
    },
    {
     "name": "stderr",
     "output_type": "stream",
     "text": [
      "ERROR:src.fetch:No data found for ALLG-WS.\n"
     ]
    },
    {
     "name": "stdout",
     "output_type": "stream",
     "text": [
      "Fetching 4000 to 4400 of 7022\n"
     ]
    },
    {
     "name": "stderr",
     "output_type": "stream",
     "text": [
      "ERROR:src.fetch:Invalid response for HME.\n",
      "ERROR:src.fetch:Invalid response for CEAI.\n",
      "ERROR:src.fetch:No data found for CYPS.\n"
     ]
    },
    {
     "name": "stdout",
     "output_type": "stream",
     "text": [
      "Fetching 4400 to 4800 of 7022\n"
     ]
    },
    {
     "name": "stderr",
     "output_type": "stream",
     "text": [
      "ERROR:src.fetch:No data found for UBP-P-K.\n"
     ]
    },
    {
     "name": "stdout",
     "output_type": "stream",
     "text": [
      "Fetching 4800 to 5200 of 7022\n"
     ]
    },
    {
     "name": "stderr",
     "output_type": "stream",
     "text": [
      "ERROR:src.fetch:Invalid response for AGII.\n",
      "ERROR:src.fetch:No data found for GSOL.\n",
      "ERROR:src.fetch:No data found for WORK.\n",
      "ERROR:src.fetch:No data found for ENSCW.\n",
      "ERROR:src.fetch:Invalid response for ACAMU.\n"
     ]
    },
    {
     "name": "stdout",
     "output_type": "stream",
     "text": [
      "Fetching 5200 to 5600 of 7022\n"
     ]
    },
    {
     "name": "stderr",
     "output_type": "stream",
     "text": [
      "ERROR:src.fetch:No data found for FRG.\n"
     ]
    },
    {
     "name": "stdout",
     "output_type": "stream",
     "text": [
      "Fetching 5600 to 6000 of 7022\n"
     ]
    },
    {
     "name": "stderr",
     "output_type": "stream",
     "text": [
      "ERROR:src.fetch:HTTP status error for https://api.tiingo.com/tiingo/daily/BC/PB/prices?startDate=2018-12-06&endDate=2024-05-10&format=csv&columns=date,adjClose,adjVolume&token=72b7d80c10cbdbdc839fe9556a7a004af06cf83c: Client error '404 Not Found' for url 'https://api.tiingo.com/tiingo/daily/BC/PB/prices?startDate=2018-12-06&endDate=2024-05-10&format=csv&columns=date,adjClose,adjVolume&token=72b7d80c10cbdbdc839fe9556a7a004af06cf83c'\n",
      "For more information check: https://developer.mozilla.org/en-US/docs/Web/HTTP/Status/404\n",
      "ERROR:src.fetch:response.text for BC/PB is None.\n",
      "ERROR:src.fetch:Invalid response for LFC.\n"
     ]
    },
    {
     "name": "stdout",
     "output_type": "stream",
     "text": [
      "Fetching 6000 to 6400 of 7022\n"
     ]
    },
    {
     "name": "stderr",
     "output_type": "stream",
     "text": [
      "ERROR:src.fetch:No data found for MEME.\n",
      "ERROR:src.fetch:An error occurred while requesting https://api.tiingo.com/tiingo/daily/PTRB/prices?startDate=2021-12-08&endDate=2024-05-10&format=csv&columns=date,adjClose,adjVolume&token=72b7d80c10cbdbdc839fe9556a7a004af06cf83c: [Errno 8] nodename nor servname provided, or not known\n",
      "ERROR:src.fetch:response.text for PTRB is None.\n",
      "ERROR:src.fetch:Invalid response for FOGO.\n",
      "ERROR:src.fetch:Invalid response for TFG.\n"
     ]
    },
    {
     "name": "stdout",
     "output_type": "stream",
     "text": [
      "Fetching 6400 to 6800 of 7022\n"
     ]
    },
    {
     "name": "stderr",
     "output_type": "stream",
     "text": [
      "ERROR:src.fetch:Invalid response for CIC-U.\n",
      "ERROR:src.fetch:No data found for RESI.\n"
     ]
    },
    {
     "name": "stdout",
     "output_type": "stream",
     "text": [
      "Fetching 6800 to 7200 of 7022\n"
     ]
    },
    {
     "name": "stderr",
     "output_type": "stream",
     "text": [
      "ERROR:src.fetch:No data found for AMPIW.\n",
      "ERROR:src.fetch:Invalid response for ABDC.\n",
      "ERROR:src.fetch:No data found for SAAS.\n",
      "ERROR:src.fetch:No data found for KEGX.\n"
     ]
    }
   ],
   "source": [
    "await fetcher.fetch_all(\n",
    "    df=df_large,\n",
    "    columns=[\"date\", \"adjClose\", \"adjVolume\"],\n",
    "    async_batch_size=400\n",
    ")"
   ]
  },
  {
   "cell_type": "markdown",
   "metadata": {},
   "source": [
    "# Ingest to DuckDB / Motherduck\n",
    "\n"
   ]
  },
  {
   "cell_type": "code",
   "execution_count": 12,
   "metadata": {},
   "outputs": [],
   "source": [
    "importlib.reload(src.ingest)\n",
    "ingestor = src.ingest.Ingest(\n",
    "    db_path=\"duckdb/test.db\",\n",
    "    sql_dir=\"sql\",\n",
    ")\n",
    "ingestor.create_table(file_name=\"create_table.sql\")"
   ]
  },
  {
   "cell_type": "code",
   "execution_count": 14,
   "metadata": {},
   "outputs": [
    {
     "data": {
      "text/plain": [
       "┌──────────────┐\n",
       "│ count_star() │\n",
       "│    int64     │\n",
       "├──────────────┤\n",
       "│     15982999 │\n",
       "└──────────────┘"
      ]
     },
     "execution_count": 14,
     "metadata": {},
     "output_type": "execute_result"
    }
   ],
   "source": [
    "ingestor.ingest_data(dst_table=\"daily_adjusted\", data=\"data/sample/*.csv\")\n",
    "ingestor.cur.sql(\"SELECT COUNT(*) FROM daily_adjusted\")"
   ]
  },
  {
   "cell_type": "code",
   "execution_count": 26,
   "metadata": {},
   "outputs": [],
   "source": [
    "ingestor.close()"
   ]
  },
  {
   "cell_type": "markdown",
   "metadata": {},
   "source": [
    "## Last trading day snapshot\n",
    "\n",
    "This request downloads latest prices for all tickers avaialable in the Tiingo end-of-day API."
   ]
  },
  {
   "cell_type": "code",
   "execution_count": 32,
   "metadata": {},
   "outputs": [
    {
     "data": {
      "text/plain": [
       "200"
      ]
     },
     "execution_count": 32,
     "metadata": {},
     "output_type": "execute_result"
    }
   ],
   "source": [
    "response = httpx.get(f\"https://api.tiingo.com/tiingo/daily/prices?format=csv&date=2024-05-09&token={environ['TIINGO_TOKEN']}\")\n",
    "response.status_code"
   ]
  },
  {
   "cell_type": "code",
   "execution_count": 33,
   "metadata": {},
   "outputs": [
    {
     "data": {
      "text/plain": [
       "3934387"
      ]
     },
     "execution_count": 33,
     "metadata": {},
     "output_type": "execute_result"
    }
   ],
   "source": [
    "import pathlib\n",
    "path = pathlib.Path(\"data/daily/snapshot_date.csv\")\n",
    "path.write_text(response.text)"
   ]
  }
 ],
 "metadata": {
  "kernelspec": {
   "display_name": ".venv",
   "language": "python",
   "name": "python3"
  },
  "language_info": {
   "codemirror_mode": {
    "name": "ipython",
    "version": 3
   },
   "file_extension": ".py",
   "mimetype": "text/x-python",
   "name": "python",
   "nbconvert_exporter": "python",
   "pygments_lexer": "ipython3",
   "version": "3.12.2"
  }
 },
 "nbformat": 4,
 "nbformat_minor": 2
}
