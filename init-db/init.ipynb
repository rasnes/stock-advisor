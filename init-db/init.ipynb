{
 "cells": [
  {
   "cell_type": "code",
   "execution_count": 1,
   "metadata": {},
   "outputs": [
    {
     "data": {
      "text/plain": [
       "polars.config.Config"
      ]
     },
     "execution_count": 1,
     "metadata": {},
     "output_type": "execute_result"
    }
   ],
   "source": [
    "from os import environ\n",
    "import httpx\n",
    "import importlib\n",
    "import polars as pl\n",
    "import src.fetch\n",
    "import src.ingest\n",
    "from dotenv import load_dotenv\n",
    "\n",
    "load_dotenv()\n",
    "\n",
    "## Polars\n",
    "pl.Config.set_fmt_str_lengths(100)\n",
    "pl.Config.set_tbl_rows(100)"
   ]
  },
  {
   "cell_type": "code",
   "execution_count": 9,
   "metadata": {},
   "outputs": [],
   "source": [
    "importlib.reload(src.fetch)\n",
    "fetcher = src.fetch.Fetch(\n",
    "    client=httpx.AsyncClient(),\n",
    "    tiingo_token=environ[\"TIINGO_TOKEN\"],\n",
    "    add_ticker_column=True,\n",
    "    min_start_date=\"1995-01-01\",\n",
    "    save_dir=\"data/sample\",\n",
    "    response_format=\"csv\",\n",
    "    failed_tickers_file=\"failed_tickers.csv\",\n",
    ")\n",
    "\n",
    "if \"df_tickers\" not in locals():\n",
    "    df_tickers = src.fetch.get_supported_tickers()"
   ]
  },
  {
   "cell_type": "markdown",
   "metadata": {},
   "source": [
    "## TODO: problematic tickers:\n",
    "\n",
    "- Go through concrete cases and see which exchange they come from, and whether that could be a source to the issue. Consider skipping one of the exchanges if one seems problematic.\n",
    "- Consider making a function deletes redundant csvs before ingestion. As part of the Ingest class.\n",
    "  - Recurring pattern: may it be that the later file is always better (but not entire sure about this. Check other file name as well)\n",
    "  - Pattern: if duplicate tickers, only select the row with the latest end date.\n",
    "- TODO: move transformations to a Python module and add tests for the transformations\n",
    "\n",
    "### Concrete cases:\n",
    "\n",
    "- AWH: seems to be downloaded twice, but with the same data. Omit one of the fetches or skip the one of the exchanges, as that might be the issue.\n",
    "- BETR: file BETR_2015-08-05_2023-08-29 seems be redundant, as it has only 4 days of data, which overlaps with a more recent file.\n",
    "- BFLY-WS: BFLY-WS_2020-07-13_2022-12-23 is redundant. The other file is also incomplete, with the first row of data occuring about one year before the second row. After that it looks normal\n",
    "- CNR: CNR_1995-01-01_2022-07-22 is redundant. Other file also looks suspicious.\n",
    "- COGT: COGT_2007-12-27_2018-04-13 is redundant. Other file looks good.\n",
    "- CSR: CSR_2007-10-29_2011-09-15 is redundant. Other file looks good.\n",
    "- CZR: CZR_2012-02-08_2020-07-20 is redundant. Other file looks good.\n",
    "- DD: DD_2017-08-03_2019-05-31 is redunant. Other file looks good."
   ]
  },
  {
   "cell_type": "code",
   "execution_count": null,
   "metadata": {},
   "outputs": [],
   "source": []
  },
  {
   "cell_type": "code",
   "execution_count": 3,
   "metadata": {},
   "outputs": [
    {
     "data": {
      "text/plain": [
       "(17441, 6)"
      ]
     },
     "execution_count": 3,
     "metadata": {},
     "output_type": "execute_result"
    }
   ],
   "source": [
    "exchanges = pl.col(\"exchange\").is_in([\"NYSE\", \"NASDAQ\", \"NYSE MKT\", \"NYSE ARCA\"])\n",
    "# Ignore tickers that has null in start date (I don't know why these exist)\n",
    "# TODO: the daily batch job should be able to add previosly unseen tickers.\n",
    "not_null_start_date = pl.col(\"startDate\").is_not_null()\n",
    "# Get all stocks\n",
    "stocks = pl.col(\"assetType\") == \"Stock\"\n",
    "# Only include ETFs that are still traded\n",
    "etfs = (pl.col(\"assetType\") == \"ETF\") & (pl.col(\"endDate\") == pl.col(\"endDate\").max())\n",
    "\n",
    "us_filter = exchanges & not_null_start_date & (stocks | etfs)\n",
    "df_us = df_tickers.filter(us_filter)\n",
    "df_us.shape"
   ]
  },
  {
   "cell_type": "code",
   "execution_count": 4,
   "metadata": {},
   "outputs": [
    {
     "data": {
      "text/html": [
       "<div><style>\n",
       ".dataframe > thead > tr,\n",
       ".dataframe > tbody > tr {\n",
       "  text-align: right;\n",
       "  white-space: pre-wrap;\n",
       "}\n",
       "</style>\n",
       "<small>shape: (14, 6)</small><table border=\"1\" class=\"dataframe\"><thead><tr><th>ticker</th><th>exchange</th><th>assetType</th><th>priceCurrency</th><th>startDate</th><th>endDate</th></tr><tr><td>str</td><td>str</td><td>str</td><td>str</td><td>date</td><td>date</td></tr></thead><tbody><tr><td>&quot;AWH&quot;</td><td>&quot;NASDAQ&quot;</td><td>&quot;Stock&quot;</td><td>&quot;USD&quot;</td><td>2000-10-02</td><td>2024-05-10</td></tr><tr><td>&quot;AWH&quot;</td><td>&quot;NYSE&quot;</td><td>&quot;Stock&quot;</td><td>&quot;USD&quot;</td><td>2006-07-12</td><td>2017-08-28</td></tr><tr><td>&quot;BETR&quot;</td><td>&quot;NYSE&quot;</td><td>&quot;Stock&quot;</td><td>&quot;USD&quot;</td><td>2023-08-24</td><td>2024-05-10</td></tr><tr><td>&quot;BETR&quot;</td><td>&quot;NYSE&quot;</td><td>&quot;Stock&quot;</td><td>&quot;USD&quot;</td><td>2015-08-05</td><td>2023-08-29</td></tr><tr><td>&quot;BFLY-WS&quot;</td><td>&quot;NYSE&quot;</td><td>&quot;Stock&quot;</td><td>&quot;USD&quot;</td><td>2021-02-16</td><td>2024-05-10</td></tr><tr><td>&quot;BFLY-WS&quot;</td><td>&quot;NYSE&quot;</td><td>&quot;Stock&quot;</td><td>&quot;USD&quot;</td><td>2020-07-13</td><td>2022-12-23</td></tr><tr><td>&quot;CNR&quot;</td><td>&quot;NYSE&quot;</td><td>&quot;Stock&quot;</td><td>&quot;USD&quot;</td><td>1992-04-06</td><td>2022-07-22</td></tr><tr><td>&quot;CNR&quot;</td><td>&quot;NYSE MKT&quot;</td><td>&quot;Stock&quot;</td><td>&quot;USD&quot;</td><td>2016-01-04</td><td>2022-07-25</td></tr><tr><td>&quot;COGT&quot;</td><td>&quot;NASDAQ&quot;</td><td>&quot;Stock&quot;</td><td>&quot;USD&quot;</td><td>2018-03-29</td><td>2024-05-10</td></tr><tr><td>&quot;COGT&quot;</td><td>&quot;NASDAQ&quot;</td><td>&quot;Stock&quot;</td><td>&quot;USD&quot;</td><td>2007-12-27</td><td>2018-04-13</td></tr><tr><td>&quot;CSR&quot;</td><td>&quot;NYSE&quot;</td><td>&quot;Stock&quot;</td><td>&quot;USD&quot;</td><td>1997-10-17</td><td>2024-05-10</td></tr><tr><td>&quot;CSR&quot;</td><td>&quot;NYSE&quot;</td><td>&quot;Stock&quot;</td><td>&quot;USD&quot;</td><td>2007-10-29</td><td>2011-09-15</td></tr><tr><td>&quot;CZR&quot;</td><td>&quot;NASDAQ&quot;</td><td>&quot;Stock&quot;</td><td>&quot;USD&quot;</td><td>2014-09-22</td><td>2024-05-10</td></tr><tr><td>&quot;CZR&quot;</td><td>&quot;NASDAQ&quot;</td><td>&quot;Stock&quot;</td><td>&quot;USD&quot;</td><td>2012-02-08</td><td>2020-07-20</td></tr></tbody></table></div>"
      ],
      "text/plain": [
       "shape: (14, 6)\n",
       "┌─────────┬──────────┬───────────┬───────────────┬────────────┬────────────┐\n",
       "│ ticker  ┆ exchange ┆ assetType ┆ priceCurrency ┆ startDate  ┆ endDate    │\n",
       "│ ---     ┆ ---      ┆ ---       ┆ ---           ┆ ---        ┆ ---        │\n",
       "│ str     ┆ str      ┆ str       ┆ str           ┆ date       ┆ date       │\n",
       "╞═════════╪══════════╪═══════════╪═══════════════╪════════════╪════════════╡\n",
       "│ AWH     ┆ NASDAQ   ┆ Stock     ┆ USD           ┆ 2000-10-02 ┆ 2024-05-10 │\n",
       "│ AWH     ┆ NYSE     ┆ Stock     ┆ USD           ┆ 2006-07-12 ┆ 2017-08-28 │\n",
       "│ BETR    ┆ NYSE     ┆ Stock     ┆ USD           ┆ 2023-08-24 ┆ 2024-05-10 │\n",
       "│ BETR    ┆ NYSE     ┆ Stock     ┆ USD           ┆ 2015-08-05 ┆ 2023-08-29 │\n",
       "│ BFLY-WS ┆ NYSE     ┆ Stock     ┆ USD           ┆ 2021-02-16 ┆ 2024-05-10 │\n",
       "│ BFLY-WS ┆ NYSE     ┆ Stock     ┆ USD           ┆ 2020-07-13 ┆ 2022-12-23 │\n",
       "│ CNR     ┆ NYSE     ┆ Stock     ┆ USD           ┆ 1992-04-06 ┆ 2022-07-22 │\n",
       "│ CNR     ┆ NYSE MKT ┆ Stock     ┆ USD           ┆ 2016-01-04 ┆ 2022-07-25 │\n",
       "│ COGT    ┆ NASDAQ   ┆ Stock     ┆ USD           ┆ 2018-03-29 ┆ 2024-05-10 │\n",
       "│ COGT    ┆ NASDAQ   ┆ Stock     ┆ USD           ┆ 2007-12-27 ┆ 2018-04-13 │\n",
       "│ CSR     ┆ NYSE     ┆ Stock     ┆ USD           ┆ 1997-10-17 ┆ 2024-05-10 │\n",
       "│ CSR     ┆ NYSE     ┆ Stock     ┆ USD           ┆ 2007-10-29 ┆ 2011-09-15 │\n",
       "│ CZR     ┆ NASDAQ   ┆ Stock     ┆ USD           ┆ 2014-09-22 ┆ 2024-05-10 │\n",
       "│ CZR     ┆ NASDAQ   ┆ Stock     ┆ USD           ┆ 2012-02-08 ┆ 2020-07-20 │\n",
       "└─────────┴──────────┴───────────┴───────────────┴────────────┴────────────┘"
      ]
     },
     "execution_count": 4,
     "metadata": {},
     "output_type": "execute_result"
    }
   ],
   "source": [
    "df_us.filter(pl.col(\"ticker\").is_in([\"AWH\", \"BETR\", \"BFLY-WS\", \"CNR\", \"COGT\", \"CSR\", \"CZR\"]))"
   ]
  },
  {
   "cell_type": "code",
   "execution_count": 5,
   "metadata": {},
   "outputs": [
    {
     "data": {
      "text/html": [
       "<div><style>\n",
       ".dataframe > thead > tr,\n",
       ".dataframe > tbody > tr {\n",
       "  text-align: right;\n",
       "  white-space: pre-wrap;\n",
       "}\n",
       "</style>\n",
       "<small>shape: (7, 6)</small><table border=\"1\" class=\"dataframe\"><thead><tr><th>ticker</th><th>exchange</th><th>assetType</th><th>priceCurrency</th><th>startDate</th><th>endDate</th></tr><tr><td>str</td><td>str</td><td>str</td><td>str</td><td>date</td><td>date</td></tr></thead><tbody><tr><td>&quot;AWH&quot;</td><td>&quot;NASDAQ&quot;</td><td>&quot;Stock&quot;</td><td>&quot;USD&quot;</td><td>2000-10-02</td><td>2024-05-10</td></tr><tr><td>&quot;BETR&quot;</td><td>&quot;NYSE&quot;</td><td>&quot;Stock&quot;</td><td>&quot;USD&quot;</td><td>2023-08-24</td><td>2024-05-10</td></tr><tr><td>&quot;BFLY-WS&quot;</td><td>&quot;NYSE&quot;</td><td>&quot;Stock&quot;</td><td>&quot;USD&quot;</td><td>2021-02-16</td><td>2024-05-10</td></tr><tr><td>&quot;CNR&quot;</td><td>&quot;NYSE MKT&quot;</td><td>&quot;Stock&quot;</td><td>&quot;USD&quot;</td><td>2016-01-04</td><td>2022-07-25</td></tr><tr><td>&quot;COGT&quot;</td><td>&quot;NASDAQ&quot;</td><td>&quot;Stock&quot;</td><td>&quot;USD&quot;</td><td>2018-03-29</td><td>2024-05-10</td></tr><tr><td>&quot;CSR&quot;</td><td>&quot;NYSE&quot;</td><td>&quot;Stock&quot;</td><td>&quot;USD&quot;</td><td>1997-10-17</td><td>2024-05-10</td></tr><tr><td>&quot;CZR&quot;</td><td>&quot;NASDAQ&quot;</td><td>&quot;Stock&quot;</td><td>&quot;USD&quot;</td><td>2014-09-22</td><td>2024-05-10</td></tr></tbody></table></div>"
      ],
      "text/plain": [
       "shape: (7, 6)\n",
       "┌─────────┬──────────┬───────────┬───────────────┬────────────┬────────────┐\n",
       "│ ticker  ┆ exchange ┆ assetType ┆ priceCurrency ┆ startDate  ┆ endDate    │\n",
       "│ ---     ┆ ---      ┆ ---       ┆ ---           ┆ ---        ┆ ---        │\n",
       "│ str     ┆ str      ┆ str       ┆ str           ┆ date       ┆ date       │\n",
       "╞═════════╪══════════╪═══════════╪═══════════════╪════════════╪════════════╡\n",
       "│ AWH     ┆ NASDAQ   ┆ Stock     ┆ USD           ┆ 2000-10-02 ┆ 2024-05-10 │\n",
       "│ BETR    ┆ NYSE     ┆ Stock     ┆ USD           ┆ 2023-08-24 ┆ 2024-05-10 │\n",
       "│ BFLY-WS ┆ NYSE     ┆ Stock     ┆ USD           ┆ 2021-02-16 ┆ 2024-05-10 │\n",
       "│ CNR     ┆ NYSE MKT ┆ Stock     ┆ USD           ┆ 2016-01-04 ┆ 2022-07-25 │\n",
       "│ COGT    ┆ NASDAQ   ┆ Stock     ┆ USD           ┆ 2018-03-29 ┆ 2024-05-10 │\n",
       "│ CSR     ┆ NYSE     ┆ Stock     ┆ USD           ┆ 1997-10-17 ┆ 2024-05-10 │\n",
       "│ CZR     ┆ NASDAQ   ┆ Stock     ┆ USD           ┆ 2014-09-22 ┆ 2024-05-10 │\n",
       "└─────────┴──────────┴───────────┴───────────────┴────────────┴────────────┘"
      ]
     },
     "execution_count": 5,
     "metadata": {},
     "output_type": "execute_result"
    }
   ],
   "source": [
    "## Clean-up filters (only necessary since supported_tickers file is messy, with duplicates)\n",
    "semi_join_col = \"ticker_end_date\"\n",
    "add_ticker_end_date = (pl.col(\"ticker\") + pl.lit(\"_\") + pl.col(\"endDate\")).alias(semi_join_col)\n",
    "latest_end_date_on_duplicate_tickers = (\n",
    "    df_us\n",
    "    .group_by(\"ticker\").agg(pl.col(\"endDate\").max())\n",
    "    .with_columns([add_ticker_end_date])\n",
    ")\n",
    "df_us_clean = (\n",
    "    df_us.with_columns([add_ticker_end_date])\n",
    "    .join(\n",
    "        latest_end_date_on_duplicate_tickers,\n",
    "        on=semi_join_col,\n",
    "        how=\"semi\",\n",
    "    )\n",
    "    .drop(semi_join_col)\n",
    ")\n",
    "\n",
    "df_us_clean.filter(pl.col(\"ticker\").is_in([\"AWH\", \"BETR\", \"BFLY-WS\", \"CNR\", \"COGT\", \"CSR\", \"CZR\"]))"
   ]
  },
  {
   "cell_type": "code",
   "execution_count": 6,
   "metadata": {},
   "outputs": [
    {
     "data": {
      "text/plain": [
       "(17441, 6)"
      ]
     },
     "execution_count": 6,
     "metadata": {},
     "output_type": "execute_result"
    }
   ],
   "source": [
    "df_us.shape"
   ]
  },
  {
   "cell_type": "code",
   "execution_count": 7,
   "metadata": {},
   "outputs": [
    {
     "data": {
      "text/plain": [
       "(16945, 6)"
      ]
     },
     "execution_count": 7,
     "metadata": {},
     "output_type": "execute_result"
    }
   ],
   "source": [
    "df_us_clean.shape"
   ]
  },
  {
   "cell_type": "code",
   "execution_count": 5,
   "metadata": {},
   "outputs": [
    {
     "data": {
      "text/plain": [
       "(500, 6)"
      ]
     },
     "execution_count": 5,
     "metadata": {},
     "output_type": "execute_result"
    }
   ],
   "source": [
    "seed = 42\n",
    "df_sampled = df_us.sample(500, seed=seed)\n",
    "df_sampled.shape"
   ]
  },
  {
   "cell_type": "code",
   "execution_count": 6,
   "metadata": {},
   "outputs": [
    {
     "name": "stderr",
     "output_type": "stream",
     "text": [
      "ERROR:src.fetch:No data found for CERE.\n",
      "ERROR:src.fetch:Invalid response for LCI.\n",
      "ERROR:src.fetch:No data found for NFYS-U.\n",
      "ERROR:src.fetch:No data found for CLA-U.\n",
      "ERROR:src.fetch:No data found for GPACW.\n",
      "ERROR:src.fetch:Invalid response for FOGO.\n",
      "ERROR:src.fetch:No data found for EV.\n",
      "ERROR:src.fetch:No data found for OB.\n",
      "ERROR:src.fetch:No data found for FTRE.\n",
      "ERROR:src.fetch:No data found for SES.\n"
     ]
    }
   ],
   "source": [
    "await fetcher.fetch_supported_tickers(\n",
    "    df=df_sampled,\n",
    "    columns=[\"date\", \"adjClose\", \"adjVolume\"],\n",
    ")"
   ]
  },
  {
   "cell_type": "code",
   "execution_count": 10,
   "metadata": {},
   "outputs": [
    {
     "name": "stderr",
     "output_type": "stream",
     "text": [
      "INFO:httpx:HTTP Request: GET https://api.tiingo.com/tiingo/daily/ZZZ/prices?startDate=2023-12-28&endDate=2024-05-10&format=csv&columns=date,adjClose,adjVolume&token=72b7d80c10cbdbdc839fe9556a7a004af06cf83c \"HTTP/1.1 200 OK\"\n",
      "INFO:src.fetch:Saved data for ZZZ to data/sample/ZZZ_2023-12-28_2024-05-10.csv\n",
      "INFO:httpx:HTTP Request: GET https://api.tiingo.com/tiingo/daily/CCAI/prices?startDate=2021-10-22&endDate=2023-08-31&format=csv&columns=date,adjClose,adjVolume&token=72b7d80c10cbdbdc839fe9556a7a004af06cf83c \"HTTP/1.1 200 OK\"\n",
      "INFO:src.fetch:Saved data for CCAI to data/sample/CCAI_2021-10-22_2023-08-31.csv\n",
      "INFO:httpx:HTTP Request: GET https://api.tiingo.com/tiingo/daily/AAPL/prices?startDate=1995-01-01&endDate=2024-05-10&format=csv&columns=date,adjClose,adjVolume&token=72b7d80c10cbdbdc839fe9556a7a004af06cf83c \"HTTP/1.1 200 OK\"\n",
      "INFO:src.fetch:Saved data for AAPL to data/sample/AAPL_1995-01-01_2024-05-10.csv\n"
     ]
    }
   ],
   "source": [
    "df_zzz = df_tickers.filter(\n",
    "    ((pl.col(\"ticker\") == \"ZZZ\") & (pl.col(\"exchange\") == \"NASDAQ\"))\n",
    "    | (pl.col(\"ticker\") == \"AAPL\")\n",
    "    | (pl.col(\"ticker\") == \"CCAI\")\n",
    ")\n",
    "\n",
    "await fetcher.fetch_supported_tickers(\n",
    "    df=df_zzz,\n",
    "    columns=[\"date\", \"adjClose\", \"adjVolume\"],\n",
    ")"
   ]
  },
  {
   "cell_type": "code",
   "execution_count": 9,
   "metadata": {},
   "outputs": [
    {
     "data": {
      "text/html": [
       "<div><style>\n",
       ".dataframe > thead > tr,\n",
       ".dataframe > tbody > tr {\n",
       "  text-align: right;\n",
       "  white-space: pre-wrap;\n",
       "}\n",
       "</style>\n",
       "<small>shape: (1, 6)</small><table border=\"1\" class=\"dataframe\"><thead><tr><th>ticker</th><th>exchange</th><th>assetType</th><th>priceCurrency</th><th>startDate</th><th>endDate</th></tr><tr><td>str</td><td>str</td><td>str</td><td>str</td><td>date</td><td>date</td></tr></thead><tbody><tr><td>&quot;CCAI&quot;</td><td>&quot;NASDAQ&quot;</td><td>&quot;Stock&quot;</td><td>&quot;USD&quot;</td><td>2021-10-22</td><td>2023-08-31</td></tr></tbody></table></div>"
      ],
      "text/plain": [
       "shape: (1, 6)\n",
       "┌────────┬──────────┬───────────┬───────────────┬────────────┬────────────┐\n",
       "│ ticker ┆ exchange ┆ assetType ┆ priceCurrency ┆ startDate  ┆ endDate    │\n",
       "│ ---    ┆ ---      ┆ ---       ┆ ---           ┆ ---        ┆ ---        │\n",
       "│ str    ┆ str      ┆ str       ┆ str           ┆ date       ┆ date       │\n",
       "╞════════╪══════════╪═══════════╪═══════════════╪════════════╪════════════╡\n",
       "│ CCAI   ┆ NASDAQ   ┆ Stock     ┆ USD           ┆ 2021-10-22 ┆ 2023-08-31 │\n",
       "└────────┴──────────┴───────────┴───────────────┴────────────┴────────────┘"
      ]
     },
     "execution_count": 9,
     "metadata": {},
     "output_type": "execute_result"
    }
   ],
   "source": [
    "df_us.filter(pl.col(\"ticker\") == \"CCAI\")"
   ]
  },
  {
   "cell_type": "code",
   "execution_count": 10,
   "metadata": {},
   "outputs": [
    {
     "data": {
      "text/plain": [
       "(7022, 6)"
      ]
     },
     "execution_count": 10,
     "metadata": {},
     "output_type": "execute_result"
    }
   ],
   "source": [
    "seed=42\n",
    "df_large = df_us_clean.sample(7022, seed=seed)\n",
    "df_large.shape"
   ]
  },
  {
   "cell_type": "code",
   "execution_count": null,
   "metadata": {},
   "outputs": [],
   "source": []
  },
  {
   "cell_type": "code",
   "execution_count": 11,
   "metadata": {},
   "outputs": [
    {
     "name": "stdout",
     "output_type": "stream",
     "text": [
      "Fetching 0 to 400 of 7022\n"
     ]
    },
    {
     "name": "stderr",
     "output_type": "stream",
     "text": [
      "ERROR:src.fetch:Invalid response for LCI.\n",
      "ERROR:src.fetch:An error occurred while requesting https://api.tiingo.com/tiingo/daily/DGRS/prices?startDate=2013-07-25&endDate=2024-05-10&format=csv&columns=date,adjClose,adjVolume&token=72b7d80c10cbdbdc839fe9556a7a004af06cf83c: [Errno 8] nodename nor servname provided, or not known\n",
      "ERROR:src.fetch:response.text for DGRS is None.\n"
     ]
    },
    {
     "name": "stdout",
     "output_type": "stream",
     "text": [
      "Fetching 400 to 800 of 7022\n"
     ]
    },
    {
     "name": "stderr",
     "output_type": "stream",
     "text": [
      "ERROR:src.fetch:Invalid response for AVYA.\n"
     ]
    },
    {
     "name": "stdout",
     "output_type": "stream",
     "text": [
      "Fetching 800 to 1200 of 7022\n"
     ]
    },
    {
     "name": "stderr",
     "output_type": "stream",
     "text": [
      "ERROR:src.fetch:Invalid response for SUNH.\n",
      "ERROR:src.fetch:Invalid response for VISN.\n"
     ]
    },
    {
     "name": "stdout",
     "output_type": "stream",
     "text": [
      "Fetching 1200 to 1600 of 7022\n"
     ]
    },
    {
     "name": "stderr",
     "output_type": "stream",
     "text": [
      "ERROR:src.fetch:No data found for IGLD.\n",
      "ERROR:src.fetch:Invalid response for PEAK.\n"
     ]
    },
    {
     "name": "stdout",
     "output_type": "stream",
     "text": [
      "Fetching 1600 to 2000 of 7022\n",
      "Fetching 2000 to 2400 of 7022\n",
      "Fetching 2400 to 2800 of 7022\n"
     ]
    },
    {
     "name": "stderr",
     "output_type": "stream",
     "text": [
      "ERROR:src.fetch:No data found for PNT.\n",
      "ERROR:src.fetch:No data found for PCPCW.\n",
      "ERROR:src.fetch:No data found for PKDC.\n"
     ]
    },
    {
     "name": "stdout",
     "output_type": "stream",
     "text": [
      "Fetching 2800 to 3200 of 7022\n"
     ]
    },
    {
     "name": "stderr",
     "output_type": "stream",
     "text": [
      "ERROR:src.fetch:Invalid response for STLRU.\n",
      "ERROR:src.fetch:No data found for MMX.\n",
      "ERROR:src.fetch:Invalid response for SCACU.\n"
     ]
    },
    {
     "name": "stdout",
     "output_type": "stream",
     "text": [
      "Fetching 3200 to 3600 of 7022\n"
     ]
    },
    {
     "name": "stderr",
     "output_type": "stream",
     "text": [
      "ERROR:src.fetch:No data found for GWGHQ.\n",
      "ERROR:src.fetch:No data found for HZON-WS.\n"
     ]
    },
    {
     "name": "stdout",
     "output_type": "stream",
     "text": [
      "Fetching 3600 to 4000 of 7022\n"
     ]
    },
    {
     "name": "stderr",
     "output_type": "stream",
     "text": [
      "ERROR:src.fetch:No data found for ALLG-WS.\n"
     ]
    },
    {
     "name": "stdout",
     "output_type": "stream",
     "text": [
      "Fetching 4000 to 4400 of 7022\n"
     ]
    },
    {
     "name": "stderr",
     "output_type": "stream",
     "text": [
      "ERROR:src.fetch:Invalid response for HME.\n",
      "ERROR:src.fetch:Invalid response for CEAI.\n",
      "ERROR:src.fetch:No data found for CYPS.\n"
     ]
    },
    {
     "name": "stdout",
     "output_type": "stream",
     "text": [
      "Fetching 4400 to 4800 of 7022\n"
     ]
    },
    {
     "name": "stderr",
     "output_type": "stream",
     "text": [
      "ERROR:src.fetch:No data found for UBP-P-K.\n"
     ]
    },
    {
     "name": "stdout",
     "output_type": "stream",
     "text": [
      "Fetching 4800 to 5200 of 7022\n"
     ]
    },
    {
     "name": "stderr",
     "output_type": "stream",
     "text": [
      "ERROR:src.fetch:Invalid response for AGII.\n",
      "ERROR:src.fetch:No data found for GSOL.\n",
      "ERROR:src.fetch:No data found for WORK.\n",
      "ERROR:src.fetch:No data found for ENSCW.\n",
      "ERROR:src.fetch:Invalid response for ACAMU.\n"
     ]
    },
    {
     "name": "stdout",
     "output_type": "stream",
     "text": [
      "Fetching 5200 to 5600 of 7022\n"
     ]
    },
    {
     "name": "stderr",
     "output_type": "stream",
     "text": [
      "ERROR:src.fetch:No data found for FRG.\n"
     ]
    },
    {
     "name": "stdout",
     "output_type": "stream",
     "text": [
      "Fetching 5600 to 6000 of 7022\n"
     ]
    },
    {
     "name": "stderr",
     "output_type": "stream",
     "text": [
      "ERROR:src.fetch:HTTP status error for https://api.tiingo.com/tiingo/daily/BC/PB/prices?startDate=2018-12-06&endDate=2024-05-10&format=csv&columns=date,adjClose,adjVolume&token=72b7d80c10cbdbdc839fe9556a7a004af06cf83c: Client error '404 Not Found' for url 'https://api.tiingo.com/tiingo/daily/BC/PB/prices?startDate=2018-12-06&endDate=2024-05-10&format=csv&columns=date,adjClose,adjVolume&token=72b7d80c10cbdbdc839fe9556a7a004af06cf83c'\n",
      "For more information check: https://developer.mozilla.org/en-US/docs/Web/HTTP/Status/404\n",
      "ERROR:src.fetch:response.text for BC/PB is None.\n",
      "ERROR:src.fetch:Invalid response for LFC.\n"
     ]
    },
    {
     "name": "stdout",
     "output_type": "stream",
     "text": [
      "Fetching 6000 to 6400 of 7022\n"
     ]
    },
    {
     "name": "stderr",
     "output_type": "stream",
     "text": [
      "ERROR:src.fetch:No data found for MEME.\n",
      "ERROR:src.fetch:An error occurred while requesting https://api.tiingo.com/tiingo/daily/PTRB/prices?startDate=2021-12-08&endDate=2024-05-10&format=csv&columns=date,adjClose,adjVolume&token=72b7d80c10cbdbdc839fe9556a7a004af06cf83c: [Errno 8] nodename nor servname provided, or not known\n",
      "ERROR:src.fetch:response.text for PTRB is None.\n",
      "ERROR:src.fetch:Invalid response for FOGO.\n",
      "ERROR:src.fetch:Invalid response for TFG.\n"
     ]
    },
    {
     "name": "stdout",
     "output_type": "stream",
     "text": [
      "Fetching 6400 to 6800 of 7022\n"
     ]
    },
    {
     "name": "stderr",
     "output_type": "stream",
     "text": [
      "ERROR:src.fetch:Invalid response for CIC-U.\n",
      "ERROR:src.fetch:No data found for RESI.\n"
     ]
    },
    {
     "name": "stdout",
     "output_type": "stream",
     "text": [
      "Fetching 6800 to 7200 of 7022\n"
     ]
    },
    {
     "name": "stderr",
     "output_type": "stream",
     "text": [
      "ERROR:src.fetch:No data found for AMPIW.\n",
      "ERROR:src.fetch:Invalid response for ABDC.\n",
      "ERROR:src.fetch:No data found for SAAS.\n",
      "ERROR:src.fetch:No data found for KEGX.\n"
     ]
    }
   ],
   "source": [
    "await fetcher.fetch_all(\n",
    "    df=df_large,\n",
    "    columns=[\"date\", \"adjClose\", \"adjVolume\"],\n",
    "    async_batch_size=400\n",
    ")"
   ]
  },
  {
   "cell_type": "code",
   "execution_count": null,
   "metadata": {},
   "outputs": [],
   "source": []
  },
  {
   "cell_type": "code",
   "execution_count": null,
   "metadata": {},
   "outputs": [],
   "source": []
  },
  {
   "cell_type": "markdown",
   "metadata": {},
   "source": [
    "# Ingest to DuckDB / Motherduck\n",
    "\n"
   ]
  },
  {
   "cell_type": "code",
   "execution_count": 12,
   "metadata": {},
   "outputs": [],
   "source": [
    "importlib.reload(src.ingest)\n",
    "ingestor = src.ingest.Ingest(\n",
    "    db_path=\"duckdb/test.db\",\n",
    "    sql_dir=\"sql\",\n",
    ")\n",
    "ingestor.create_table(file_name=\"create_table.sql\")"
   ]
  },
  {
   "cell_type": "code",
   "execution_count": 13,
   "metadata": {},
   "outputs": [
    {
     "data": {
      "text/plain": [
       "┌────────────┬───────────────┬───────────┬─────────┐\n",
       "│    date    │   adjClose    │ adjVolume │ ticker  │\n",
       "│    date    │ decimal(18,3) │  uint64   │ varchar │\n",
       "├────────────┼───────────────┼───────────┼─────────┤\n",
       "│ 2015-11-11 │        24.500 │   1584639 │ AAAP    │\n",
       "│ 2015-11-12 │        25.000 │     83061 │ AAAP    │\n",
       "│ 2015-11-13 │        25.260 │     67396 │ AAAP    │\n",
       "│ 2015-11-16 │        25.020 │     16959 │ AAAP    │\n",
       "│ 2015-11-17 │        24.620 │     25972 │ AAAP    │\n",
       "│ 2015-11-18 │        25.000 │    111122 │ AAAP    │\n",
       "│ 2015-11-19 │        25.900 │    113155 │ AAAP    │\n",
       "│ 2015-11-20 │        25.200 │     60324 │ AAAP    │\n",
       "│ 2015-11-23 │        25.150 │     59704 │ AAAP    │\n",
       "│ 2015-11-24 │        25.620 │     56032 │ AAAP    │\n",
       "├────────────┴───────────────┴───────────┴─────────┤\n",
       "│ 10 rows                                4 columns │\n",
       "└──────────────────────────────────────────────────┘"
      ]
     },
     "execution_count": 13,
     "metadata": {},
     "output_type": "execute_result"
    }
   ],
   "source": [
    "ingestor.ingest_data(dst_table=\"daily_adjusted\", data=\"data/sample/*.csv\")\n",
    "ingestor.cur.sql(\"SELECT * FROM daily_adjusted LIMIT 10\")"
   ]
  },
  {
   "cell_type": "code",
   "execution_count": 14,
   "metadata": {},
   "outputs": [
    {
     "data": {
      "text/plain": [
       "┌──────────────┐\n",
       "│ count_star() │\n",
       "│    int64     │\n",
       "├──────────────┤\n",
       "│     15982999 │\n",
       "└──────────────┘"
      ]
     },
     "execution_count": 14,
     "metadata": {},
     "output_type": "execute_result"
    }
   ],
   "source": [
    "ingestor.cur.sql(\"SELECT COUNT(*) FROM daily_adjusted\")"
   ]
  },
  {
   "cell_type": "code",
   "execution_count": 18,
   "metadata": {},
   "outputs": [
    {
     "data": {
      "text/plain": [
       "┌────────────┬───────────────┬───────────┬─────────┐\n",
       "│    date    │   adjClose    │ adjVolume │ ticker  │\n",
       "│    date    │ decimal(18,3) │  uint64   │ varchar │\n",
       "├────────────┼───────────────┼───────────┼─────────┤\n",
       "│ 2021-01-04 │        91.289 │   9523377 │ ABBV    │\n",
       "│ 2021-01-05 │        92.233 │   6823826 │ ABBV    │\n",
       "│ 2021-01-06 │        91.436 │  11017467 │ ABBV    │\n",
       "│ 2021-01-07 │        92.415 │   8196046 │ ABBV    │\n",
       "│ 2021-01-08 │        92.900 │   5345883 │ ABBV    │\n",
       "└────────────┴───────────────┴───────────┴─────────┘"
      ]
     },
     "execution_count": 18,
     "metadata": {},
     "output_type": "execute_result"
    }
   ],
   "source": [
    "ingestor.cur.sql(\"SELECT * FROM daily_adjusted WHERE ticker='ABBV' and date>='2021-01-04' and date<='2021-01-08'\")"
   ]
  },
  {
   "cell_type": "code",
   "execution_count": 26,
   "metadata": {},
   "outputs": [],
   "source": [
    "ingestor.close()"
   ]
  },
  {
   "cell_type": "code",
   "execution_count": null,
   "metadata": {},
   "outputs": [],
   "source": []
  },
  {
   "cell_type": "code",
   "execution_count": 32,
   "metadata": {},
   "outputs": [
    {
     "data": {
      "text/plain": [
       "200"
      ]
     },
     "execution_count": 32,
     "metadata": {},
     "output_type": "execute_result"
    }
   ],
   "source": [
    "response = httpx.get(f\"https://api.tiingo.com/tiingo/daily/prices?format=csv&date=2024-05-09&token={environ['TIINGO_TOKEN']}\")\n",
    "response.status_code"
   ]
  },
  {
   "cell_type": "code",
   "execution_count": 33,
   "metadata": {},
   "outputs": [
    {
     "data": {
      "text/plain": [
       "3934387"
      ]
     },
     "execution_count": 33,
     "metadata": {},
     "output_type": "execute_result"
    }
   ],
   "source": [
    "import pathlib\n",
    "path = pathlib.Path(\"data/daily/snapshot_date.csv\")\n",
    "path.write_text(response.text)"
   ]
  },
  {
   "cell_type": "code",
   "execution_count": null,
   "metadata": {},
   "outputs": [],
   "source": []
  }
 ],
 "metadata": {
  "kernelspec": {
   "display_name": ".venv",
   "language": "python",
   "name": "python3"
  },
  "language_info": {
   "codemirror_mode": {
    "name": "ipython",
    "version": 3
   },
   "file_extension": ".py",
   "mimetype": "text/x-python",
   "name": "python",
   "nbconvert_exporter": "python",
   "pygments_lexer": "ipython3",
   "version": "3.12.2"
  }
 },
 "nbformat": 4,
 "nbformat_minor": 2
}
