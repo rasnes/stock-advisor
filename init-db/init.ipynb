{
 "cells": [
  {
   "cell_type": "code",
   "execution_count": 1,
   "metadata": {},
   "outputs": [
    {
     "data": {
      "text/plain": [
       "polars.config.Config"
      ]
     },
     "execution_count": 1,
     "metadata": {},
     "output_type": "execute_result"
    }
   ],
   "source": [
    "from os import environ\n",
    "import httpx\n",
    "import importlib\n",
    "import pathlib\n",
    "import polars as pl\n",
    "import src.fetch\n",
    "import src.ingest\n",
    "from dotenv import load_dotenv\n",
    "\n",
    "load_dotenv()\n",
    "\n",
    "## Polars\n",
    "pl.Config.set_fmt_str_lengths(100)\n",
    "pl.Config.set_tbl_rows(100)"
   ]
  },
  {
   "cell_type": "code",
   "execution_count": 2,
   "metadata": {},
   "outputs": [],
   "source": [
    "importlib.reload(src.fetch)\n",
    "fetcher = src.fetch.Fetch(\n",
    "    client=httpx.AsyncClient(),\n",
    "    tiingo_token=environ[\"TIINGO_TOKEN\"],\n",
    "    add_ticker_column=True,\n",
    "    min_start_date=\"1995-01-01\",\n",
    "    save_dir=\"data/sample2\",\n",
    "    response_format=\"csv\",\n",
    "    failed_tickers_file=\"failed_tickers.csv\",\n",
    ")\n",
    "\n",
    "if \"duckdb_con\" not in locals():\n",
    "    duckdb_con = src.fetch.get_supported_tickers()"
   ]
  },
  {
   "cell_type": "markdown",
   "metadata": {},
   "source": [
    "## TODO: problematic tickers:\n",
    "\n",
    "- Go through concrete cases and see which exchange they come from, and whether that could be a source to the issue. Consider skipping one of the exchanges if one seems problematic.\n",
    "- Consider making a function deletes redundant csvs before ingestion. As part of the Ingest class.\n",
    "  - Recurring pattern: may it be that the later file is always better (but not entire sure about this. Check other file name as well)\n",
    "  - Pattern: if duplicate tickers, only select the row with the latest end date.\n",
    "- TODO: move transformations to a Python module and add tests for the transformations\n",
    "\n",
    "### Concrete cases:\n",
    "\n",
    "- AWH: seems to be downloaded twice, but with the same data. Omit one of the fetches or skip the one of the exchanges, as that might be the issue.\n",
    "- BETR: file BETR_2015-08-05_2023-08-29 seems be redundant, as it has only 4 days of data, which overlaps with a more recent file.\n",
    "- BFLY-WS: BFLY-WS_2020-07-13_2022-12-23 is redundant. The other file is also incomplete, with the first row of data occuring about one year before the second row. After that it looks normal\n",
    "- CNR: CNR_1995-01-01_2022-07-22 is redundant. Other file also looks suspicious.\n",
    "- COGT: COGT_2007-12-27_2018-04-13 is redundant. Other file looks good.\n",
    "- CSR: CSR_2007-10-29_2011-09-15 is redundant. Other file looks good.\n",
    "- CZR: CZR_2012-02-08_2020-07-20 is redundant. Other file looks good.\n",
    "- DD: DD_2017-08-03_2019-05-31 is redunant. Other file looks good."
   ]
  },
  {
   "cell_type": "code",
   "execution_count": 3,
   "metadata": {},
   "outputs": [],
   "source": [
    "us_tickers_query = pathlib.Path(\"sql/selected_us_tickers.sql\").read_text()\n",
    "duckdb_con.sql(us_tickers_query)"
   ]
  },
  {
   "cell_type": "code",
   "execution_count": 4,
   "metadata": {},
   "outputs": [
    {
     "data": {
      "text/plain": [
       "┌──────────────┐\n",
       "│ count_star() │\n",
       "│    int64     │\n",
       "├──────────────┤\n",
       "│        16945 │\n",
       "└──────────────┘"
      ]
     },
     "execution_count": 4,
     "metadata": {},
     "output_type": "execute_result"
    }
   ],
   "source": [
    "duckdb_con.sql(\"select count(*) from selected_us_tickers\")"
   ]
  },
  {
   "cell_type": "code",
   "execution_count": 5,
   "metadata": {},
   "outputs": [],
   "source": [
    "df_us_clean = duckdb_con.table(\"selected_us_tickers\").pl()"
   ]
  },
  {
   "cell_type": "code",
   "execution_count": 13,
   "metadata": {},
   "outputs": [
    {
     "data": {
      "text/plain": [
       "(16945, 6)"
      ]
     },
     "execution_count": 13,
     "metadata": {},
     "output_type": "execute_result"
    }
   ],
   "source": []
  },
  {
   "cell_type": "code",
   "execution_count": 6,
   "metadata": {},
   "outputs": [
    {
     "data": {
      "text/plain": [
       "(500, 6)"
      ]
     },
     "execution_count": 6,
     "metadata": {},
     "output_type": "execute_result"
    }
   ],
   "source": [
    "seed = 42\n",
    "df_sampled = df_us_clean.sample(500, seed=seed)\n",
    "df_sampled.shape"
   ]
  },
  {
   "cell_type": "code",
   "execution_count": 7,
   "metadata": {},
   "outputs": [],
   "source": [
    "await fetcher.fetch_supported_tickers(\n",
    "    df=df_sampled,\n",
    "    columns=[\"date\", \"adjClose\", \"adjVolume\"],\n",
    ")"
   ]
  },
  {
   "cell_type": "code",
   "execution_count": 13,
   "metadata": {},
   "outputs": [],
   "source": [
    "df_zzz = df_us_clean.filter(\n",
    "    ((pl.col(\"ticker\") == \"ZZZ\") & (pl.col(\"exchange\") == \"NASDAQ\"))\n",
    "    | (pl.col(\"ticker\") == \"AAPL\")\n",
    "    | (pl.col(\"ticker\") == \"CCAI\")\n",
    ")\n",
    "\n",
    "await fetcher.fetch_supported_tickers(\n",
    "    df=df_zzz,\n",
    "    columns=[\"date\", \"adjClose\", \"adjVolume\"],\n",
    ")"
   ]
  },
  {
   "cell_type": "code",
   "execution_count": 10,
   "metadata": {},
   "outputs": [
    {
     "data": {
      "text/plain": [
       "(7022, 6)"
      ]
     },
     "execution_count": 10,
     "metadata": {},
     "output_type": "execute_result"
    }
   ],
   "source": [
    "seed=42\n",
    "df_large = df_us_clean.sample(7022, seed=seed)\n",
    "df_large.shape"
   ]
  },
  {
   "cell_type": "code",
   "execution_count": null,
   "metadata": {},
   "outputs": [],
   "source": []
  },
  {
   "cell_type": "code",
   "execution_count": 11,
   "metadata": {},
   "outputs": [
    {
     "name": "stdout",
     "output_type": "stream",
     "text": [
      "Fetching 0 to 400 of 7022\n"
     ]
    },
    {
     "name": "stderr",
     "output_type": "stream",
     "text": [
      "ERROR:src.fetch:Invalid response for LCI.\n",
      "ERROR:src.fetch:An error occurred while requesting https://api.tiingo.com/tiingo/daily/DGRS/prices?startDate=2013-07-25&endDate=2024-05-10&format=csv&columns=date,adjClose,adjVolume&token=72b7d80c10cbdbdc839fe9556a7a004af06cf83c: [Errno 8] nodename nor servname provided, or not known\n",
      "ERROR:src.fetch:response.text for DGRS is None.\n"
     ]
    },
    {
     "name": "stdout",
     "output_type": "stream",
     "text": [
      "Fetching 400 to 800 of 7022\n"
     ]
    },
    {
     "name": "stderr",
     "output_type": "stream",
     "text": [
      "ERROR:src.fetch:Invalid response for AVYA.\n"
     ]
    },
    {
     "name": "stdout",
     "output_type": "stream",
     "text": [
      "Fetching 800 to 1200 of 7022\n"
     ]
    },
    {
     "name": "stderr",
     "output_type": "stream",
     "text": [
      "ERROR:src.fetch:Invalid response for SUNH.\n",
      "ERROR:src.fetch:Invalid response for VISN.\n"
     ]
    },
    {
     "name": "stdout",
     "output_type": "stream",
     "text": [
      "Fetching 1200 to 1600 of 7022\n"
     ]
    },
    {
     "name": "stderr",
     "output_type": "stream",
     "text": [
      "ERROR:src.fetch:No data found for IGLD.\n",
      "ERROR:src.fetch:Invalid response for PEAK.\n"
     ]
    },
    {
     "name": "stdout",
     "output_type": "stream",
     "text": [
      "Fetching 1600 to 2000 of 7022\n",
      "Fetching 2000 to 2400 of 7022\n",
      "Fetching 2400 to 2800 of 7022\n"
     ]
    },
    {
     "name": "stderr",
     "output_type": "stream",
     "text": [
      "ERROR:src.fetch:No data found for PNT.\n",
      "ERROR:src.fetch:No data found for PCPCW.\n",
      "ERROR:src.fetch:No data found for PKDC.\n"
     ]
    },
    {
     "name": "stdout",
     "output_type": "stream",
     "text": [
      "Fetching 2800 to 3200 of 7022\n"
     ]
    },
    {
     "name": "stderr",
     "output_type": "stream",
     "text": [
      "ERROR:src.fetch:Invalid response for STLRU.\n",
      "ERROR:src.fetch:No data found for MMX.\n",
      "ERROR:src.fetch:Invalid response for SCACU.\n"
     ]
    },
    {
     "name": "stdout",
     "output_type": "stream",
     "text": [
      "Fetching 3200 to 3600 of 7022\n"
     ]
    },
    {
     "name": "stderr",
     "output_type": "stream",
     "text": [
      "ERROR:src.fetch:No data found for GWGHQ.\n",
      "ERROR:src.fetch:No data found for HZON-WS.\n"
     ]
    },
    {
     "name": "stdout",
     "output_type": "stream",
     "text": [
      "Fetching 3600 to 4000 of 7022\n"
     ]
    },
    {
     "name": "stderr",
     "output_type": "stream",
     "text": [
      "ERROR:src.fetch:No data found for ALLG-WS.\n"
     ]
    },
    {
     "name": "stdout",
     "output_type": "stream",
     "text": [
      "Fetching 4000 to 4400 of 7022\n"
     ]
    },
    {
     "name": "stderr",
     "output_type": "stream",
     "text": [
      "ERROR:src.fetch:Invalid response for HME.\n",
      "ERROR:src.fetch:Invalid response for CEAI.\n",
      "ERROR:src.fetch:No data found for CYPS.\n"
     ]
    },
    {
     "name": "stdout",
     "output_type": "stream",
     "text": [
      "Fetching 4400 to 4800 of 7022\n"
     ]
    },
    {
     "name": "stderr",
     "output_type": "stream",
     "text": [
      "ERROR:src.fetch:No data found for UBP-P-K.\n"
     ]
    },
    {
     "name": "stdout",
     "output_type": "stream",
     "text": [
      "Fetching 4800 to 5200 of 7022\n"
     ]
    },
    {
     "name": "stderr",
     "output_type": "stream",
     "text": [
      "ERROR:src.fetch:Invalid response for AGII.\n",
      "ERROR:src.fetch:No data found for GSOL.\n",
      "ERROR:src.fetch:No data found for WORK.\n",
      "ERROR:src.fetch:No data found for ENSCW.\n",
      "ERROR:src.fetch:Invalid response for ACAMU.\n"
     ]
    },
    {
     "name": "stdout",
     "output_type": "stream",
     "text": [
      "Fetching 5200 to 5600 of 7022\n"
     ]
    },
    {
     "name": "stderr",
     "output_type": "stream",
     "text": [
      "ERROR:src.fetch:No data found for FRG.\n"
     ]
    },
    {
     "name": "stdout",
     "output_type": "stream",
     "text": [
      "Fetching 5600 to 6000 of 7022\n"
     ]
    },
    {
     "name": "stderr",
     "output_type": "stream",
     "text": [
      "ERROR:src.fetch:HTTP status error for https://api.tiingo.com/tiingo/daily/BC/PB/prices?startDate=2018-12-06&endDate=2024-05-10&format=csv&columns=date,adjClose,adjVolume&token=72b7d80c10cbdbdc839fe9556a7a004af06cf83c: Client error '404 Not Found' for url 'https://api.tiingo.com/tiingo/daily/BC/PB/prices?startDate=2018-12-06&endDate=2024-05-10&format=csv&columns=date,adjClose,adjVolume&token=72b7d80c10cbdbdc839fe9556a7a004af06cf83c'\n",
      "For more information check: https://developer.mozilla.org/en-US/docs/Web/HTTP/Status/404\n",
      "ERROR:src.fetch:response.text for BC/PB is None.\n",
      "ERROR:src.fetch:Invalid response for LFC.\n"
     ]
    },
    {
     "name": "stdout",
     "output_type": "stream",
     "text": [
      "Fetching 6000 to 6400 of 7022\n"
     ]
    },
    {
     "name": "stderr",
     "output_type": "stream",
     "text": [
      "ERROR:src.fetch:No data found for MEME.\n",
      "ERROR:src.fetch:An error occurred while requesting https://api.tiingo.com/tiingo/daily/PTRB/prices?startDate=2021-12-08&endDate=2024-05-10&format=csv&columns=date,adjClose,adjVolume&token=72b7d80c10cbdbdc839fe9556a7a004af06cf83c: [Errno 8] nodename nor servname provided, or not known\n",
      "ERROR:src.fetch:response.text for PTRB is None.\n",
      "ERROR:src.fetch:Invalid response for FOGO.\n",
      "ERROR:src.fetch:Invalid response for TFG.\n"
     ]
    },
    {
     "name": "stdout",
     "output_type": "stream",
     "text": [
      "Fetching 6400 to 6800 of 7022\n"
     ]
    },
    {
     "name": "stderr",
     "output_type": "stream",
     "text": [
      "ERROR:src.fetch:Invalid response for CIC-U.\n",
      "ERROR:src.fetch:No data found for RESI.\n"
     ]
    },
    {
     "name": "stdout",
     "output_type": "stream",
     "text": [
      "Fetching 6800 to 7200 of 7022\n"
     ]
    },
    {
     "name": "stderr",
     "output_type": "stream",
     "text": [
      "ERROR:src.fetch:No data found for AMPIW.\n",
      "ERROR:src.fetch:Invalid response for ABDC.\n",
      "ERROR:src.fetch:No data found for SAAS.\n",
      "ERROR:src.fetch:No data found for KEGX.\n"
     ]
    }
   ],
   "source": [
    "await fetcher.fetch_all(\n",
    "    df=df_large,\n",
    "    columns=[\"date\", \"adjClose\", \"adjVolume\"],\n",
    "    async_batch_size=400\n",
    ")"
   ]
  },
  {
   "cell_type": "code",
   "execution_count": null,
   "metadata": {},
   "outputs": [],
   "source": []
  },
  {
   "cell_type": "code",
   "execution_count": null,
   "metadata": {},
   "outputs": [],
   "source": []
  },
  {
   "cell_type": "markdown",
   "metadata": {},
   "source": [
    "# Ingest to DuckDB / Motherduck\n",
    "\n"
   ]
  },
  {
   "cell_type": "code",
   "execution_count": 12,
   "metadata": {},
   "outputs": [],
   "source": [
    "importlib.reload(src.ingest)\n",
    "ingestor = src.ingest.Ingest(\n",
    "    db_path=\"duckdb/test.db\",\n",
    "    sql_dir=\"sql\",\n",
    ")\n",
    "ingestor.create_table(file_name=\"create_table.sql\")"
   ]
  },
  {
   "cell_type": "code",
   "execution_count": 13,
   "metadata": {},
   "outputs": [
    {
     "data": {
      "text/plain": [
       "┌────────────┬───────────────┬───────────┬─────────┐\n",
       "│    date    │   adjClose    │ adjVolume │ ticker  │\n",
       "│    date    │ decimal(18,3) │  uint64   │ varchar │\n",
       "├────────────┼───────────────┼───────────┼─────────┤\n",
       "│ 2015-11-11 │        24.500 │   1584639 │ AAAP    │\n",
       "│ 2015-11-12 │        25.000 │     83061 │ AAAP    │\n",
       "│ 2015-11-13 │        25.260 │     67396 │ AAAP    │\n",
       "│ 2015-11-16 │        25.020 │     16959 │ AAAP    │\n",
       "│ 2015-11-17 │        24.620 │     25972 │ AAAP    │\n",
       "│ 2015-11-18 │        25.000 │    111122 │ AAAP    │\n",
       "│ 2015-11-19 │        25.900 │    113155 │ AAAP    │\n",
       "│ 2015-11-20 │        25.200 │     60324 │ AAAP    │\n",
       "│ 2015-11-23 │        25.150 │     59704 │ AAAP    │\n",
       "│ 2015-11-24 │        25.620 │     56032 │ AAAP    │\n",
       "├────────────┴───────────────┴───────────┴─────────┤\n",
       "│ 10 rows                                4 columns │\n",
       "└──────────────────────────────────────────────────┘"
      ]
     },
     "execution_count": 13,
     "metadata": {},
     "output_type": "execute_result"
    }
   ],
   "source": [
    "ingestor.ingest_data(dst_table=\"daily_adjusted\", data=\"data/sample/*.csv\")\n",
    "ingestor.cur.sql(\"SELECT * FROM daily_adjusted LIMIT 10\")"
   ]
  },
  {
   "cell_type": "code",
   "execution_count": 14,
   "metadata": {},
   "outputs": [
    {
     "data": {
      "text/plain": [
       "┌──────────────┐\n",
       "│ count_star() │\n",
       "│    int64     │\n",
       "├──────────────┤\n",
       "│     15982999 │\n",
       "└──────────────┘"
      ]
     },
     "execution_count": 14,
     "metadata": {},
     "output_type": "execute_result"
    }
   ],
   "source": [
    "ingestor.cur.sql(\"SELECT COUNT(*) FROM daily_adjusted\")"
   ]
  },
  {
   "cell_type": "code",
   "execution_count": 18,
   "metadata": {},
   "outputs": [
    {
     "data": {
      "text/plain": [
       "┌────────────┬───────────────┬───────────┬─────────┐\n",
       "│    date    │   adjClose    │ adjVolume │ ticker  │\n",
       "│    date    │ decimal(18,3) │  uint64   │ varchar │\n",
       "├────────────┼───────────────┼───────────┼─────────┤\n",
       "│ 2021-01-04 │        91.289 │   9523377 │ ABBV    │\n",
       "│ 2021-01-05 │        92.233 │   6823826 │ ABBV    │\n",
       "│ 2021-01-06 │        91.436 │  11017467 │ ABBV    │\n",
       "│ 2021-01-07 │        92.415 │   8196046 │ ABBV    │\n",
       "│ 2021-01-08 │        92.900 │   5345883 │ ABBV    │\n",
       "└────────────┴───────────────┴───────────┴─────────┘"
      ]
     },
     "execution_count": 18,
     "metadata": {},
     "output_type": "execute_result"
    }
   ],
   "source": [
    "ingestor.cur.sql(\"SELECT * FROM daily_adjusted WHERE ticker='ABBV' and date>='2021-01-04' and date<='2021-01-08'\")"
   ]
  },
  {
   "cell_type": "code",
   "execution_count": 26,
   "metadata": {},
   "outputs": [],
   "source": [
    "ingestor.close()"
   ]
  },
  {
   "cell_type": "code",
   "execution_count": null,
   "metadata": {},
   "outputs": [],
   "source": []
  },
  {
   "cell_type": "code",
   "execution_count": 32,
   "metadata": {},
   "outputs": [
    {
     "data": {
      "text/plain": [
       "200"
      ]
     },
     "execution_count": 32,
     "metadata": {},
     "output_type": "execute_result"
    }
   ],
   "source": [
    "response = httpx.get(f\"https://api.tiingo.com/tiingo/daily/prices?format=csv&date=2024-05-09&token={environ['TIINGO_TOKEN']}\")\n",
    "response.status_code"
   ]
  },
  {
   "cell_type": "code",
   "execution_count": 33,
   "metadata": {},
   "outputs": [
    {
     "data": {
      "text/plain": [
       "3934387"
      ]
     },
     "execution_count": 33,
     "metadata": {},
     "output_type": "execute_result"
    }
   ],
   "source": [
    "import pathlib\n",
    "path = pathlib.Path(\"data/daily/snapshot_date.csv\")\n",
    "path.write_text(response.text)"
   ]
  },
  {
   "cell_type": "code",
   "execution_count": null,
   "metadata": {},
   "outputs": [],
   "source": []
  }
 ],
 "metadata": {
  "kernelspec": {
   "display_name": ".venv",
   "language": "python",
   "name": "python3"
  },
  "language_info": {
   "codemirror_mode": {
    "name": "ipython",
    "version": 3
   },
   "file_extension": ".py",
   "mimetype": "text/x-python",
   "name": "python",
   "nbconvert_exporter": "python",
   "pygments_lexer": "ipython3",
   "version": "3.12.2"
  }
 },
 "nbformat": 4,
 "nbformat_minor": 2
}
