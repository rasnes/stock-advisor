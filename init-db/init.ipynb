{
 "cells": [
  {
   "cell_type": "code",
   "execution_count": 1,
   "metadata": {},
   "outputs": [
    {
     "data": {
      "text/plain": [
       "polars.config.Config"
      ]
     },
     "execution_count": 1,
     "metadata": {},
     "output_type": "execute_result"
    }
   ],
   "source": [
    "from os import environ\n",
    "import httpx\n",
    "import importlib\n",
    "import pathlib\n",
    "import polars as pl\n",
    "import src.fetch\n",
    "import src.ingest\n",
    "import src.transform\n",
    "from dotenv import load_dotenv\n",
    "\n",
    "load_dotenv()\n",
    "\n",
    "## Polars\n",
    "pl.Config.set_fmt_str_lengths(100)\n",
    "pl.Config.set_tbl_rows(100)"
   ]
  },
  {
   "cell_type": "code",
   "execution_count": 2,
   "metadata": {},
   "outputs": [],
   "source": [
    "importlib.reload(src.fetch)\n",
    "fetcher = src.fetch.Fetch(\n",
    "    client=httpx.AsyncClient(),\n",
    "    tiingo_token=environ[\"TIINGO_TOKEN\"],\n",
    "    start_date=\"1995-01-01\",\n",
    "    save_dir=\"data/prod_2024-05-24_2ndHalf\",\n",
    "    response_format=\"csv\",\n",
    "    failed_tickers_file=\"failed_tickers.csv\",\n",
    ")\n",
    "\n",
    "if \"duckdb_con\" not in locals():\n",
    "    duckdb_con = src.fetch.get_supported_tickers()"
   ]
  },
  {
   "cell_type": "code",
   "execution_count": 3,
   "metadata": {},
   "outputs": [],
   "source": [
    "src.transform.create_selected_us_tickers_view(duckdb_con)"
   ]
  },
  {
   "cell_type": "code",
   "execution_count": 4,
   "metadata": {},
   "outputs": [
    {
     "data": {
      "text/plain": [
       "┌──────────────┐\n",
       "│ count_star() │\n",
       "│    int64     │\n",
       "├──────────────┤\n",
       "│        16985 │\n",
       "└──────────────┘"
      ]
     },
     "execution_count": 4,
     "metadata": {},
     "output_type": "execute_result"
    }
   ],
   "source": [
    "duckdb_con.sql(\"select count(*) from selected_us_tickers\")"
   ]
  },
  {
   "cell_type": "code",
   "execution_count": 5,
   "metadata": {},
   "outputs": [],
   "source": [
    "df_us_clean = duckdb_con.table(\"selected_us_tickers\").pl()"
   ]
  },
  {
   "cell_type": "code",
   "execution_count": 6,
   "metadata": {},
   "outputs": [
    {
     "data": {
      "text/plain": [
       "(8492, 6)"
      ]
     },
     "execution_count": 6,
     "metadata": {},
     "output_type": "execute_result"
    }
   ],
   "source": [
    "half = df_us_clean.shape[0] // 2\n",
    "df_first = df_us_clean.slice(0, half)\n",
    "df_first.shape"
   ]
  },
  {
   "cell_type": "code",
   "execution_count": 7,
   "metadata": {},
   "outputs": [
    {
     "data": {
      "text/plain": [
       "(8493, 6)"
      ]
     },
     "execution_count": 7,
     "metadata": {},
     "output_type": "execute_result"
    }
   ],
   "source": [
    "df_second = df_us_clean.slice(half, df_us_clean.shape[0])\n",
    "df_second.shape"
   ]
  },
  {
   "cell_type": "code",
   "execution_count": 8,
   "metadata": {},
   "outputs": [],
   "source": [
    "columns = [\"date\", \"close\", \"adjClose\", \"adjVolume\"]"
   ]
  },
  {
   "cell_type": "code",
   "execution_count": 9,
   "metadata": {},
   "outputs": [],
   "source": [
    "# await fetcher.fetch_all(\n",
    "#     df=df_first,\n",
    "#     columns=columns,\n",
    "#     async_batch_size=250\n",
    "# )"
   ]
  },
  {
   "cell_type": "code",
   "execution_count": 9,
   "metadata": {},
   "outputs": [
    {
     "name": "stdout",
     "output_type": "stream",
     "text": [
      "Fetching 0 to 250 of 8493\n",
      "Fetching 250 to 500 of 8493\n"
     ]
    },
    {
     "name": "stderr",
     "output_type": "stream",
     "text": [
      "ERROR:src.fetch:Invalid response for HME.\n"
     ]
    },
    {
     "name": "stdout",
     "output_type": "stream",
     "text": [
      "Fetching 500 to 750 of 8493\n",
      "Fetching 750 to 1000 of 8493\n"
     ]
    },
    {
     "name": "stderr",
     "output_type": "stream",
     "text": [
      "ERROR:src.fetch:Invalid response for RVR.\n"
     ]
    },
    {
     "name": "stdout",
     "output_type": "stream",
     "text": [
      "Fetching 1000 to 1250 of 8493\n"
     ]
    },
    {
     "name": "stderr",
     "output_type": "stream",
     "text": [
      "ERROR:src.fetch:Invalid response for CEAI.\n"
     ]
    },
    {
     "name": "stdout",
     "output_type": "stream",
     "text": [
      "Fetching 1250 to 1500 of 8493\n",
      "Fetching 1500 to 1750 of 8493\n"
     ]
    },
    {
     "name": "stderr",
     "output_type": "stream",
     "text": [
      "ERROR:src.fetch:Invalid response for LCI.\n"
     ]
    },
    {
     "name": "stdout",
     "output_type": "stream",
     "text": [
      "Fetching 1750 to 2000 of 8493\n",
      "Fetching 2000 to 2250 of 8493\n",
      "Fetching 2250 to 2500 of 8493\n",
      "Fetching 2500 to 2750 of 8493\n",
      "Fetching 2750 to 3000 of 8493\n"
     ]
    },
    {
     "name": "stderr",
     "output_type": "stream",
     "text": [
      "ERROR:src.fetch:Invalid response for PMC.\n"
     ]
    },
    {
     "name": "stdout",
     "output_type": "stream",
     "text": [
      "Fetching 3000 to 3250 of 8493\n"
     ]
    },
    {
     "name": "stderr",
     "output_type": "stream",
     "text": [
      "ERROR:src.fetch:Invalid response for AGII.\n"
     ]
    },
    {
     "name": "stdout",
     "output_type": "stream",
     "text": [
      "Fetching 3250 to 3500 of 8493\n"
     ]
    },
    {
     "name": "stderr",
     "output_type": "stream",
     "text": [
      "ERROR:src.fetch:Invalid response for CIC-U.\n"
     ]
    },
    {
     "name": "stdout",
     "output_type": "stream",
     "text": [
      "Fetching 3500 to 3750 of 8493\n"
     ]
    },
    {
     "name": "stderr",
     "output_type": "stream",
     "text": [
      "ERROR:src.fetch:Invalid response for IMPX.\n"
     ]
    },
    {
     "name": "stdout",
     "output_type": "stream",
     "text": [
      "Fetching 3750 to 4000 of 8493\n"
     ]
    },
    {
     "name": "stderr",
     "output_type": "stream",
     "text": [
      "ERROR:src.fetch:Invalid response for MVNR.\n",
      "ERROR:src.fetch:Invalid response for NSH-U.\n"
     ]
    },
    {
     "name": "stdout",
     "output_type": "stream",
     "text": [
      "Fetching 4000 to 4250 of 8493\n",
      "Fetching 4250 to 4500 of 8493\n"
     ]
    },
    {
     "name": "stderr",
     "output_type": "stream",
     "text": [
      "ERROR:src.fetch:HTTP status error for https://api.tiingo.com/tiingo/daily/BC/PC/prices?startDate=1995-01-01&format=csv&columns=date,close,adjClose,adjVolume&token=72b7d80c10cbdbdc839fe9556a7a004af06cf83c: Client error '404 Not Found' for url 'https://api.tiingo.com/tiingo/daily/BC/PC/prices?startDate=1995-01-01&format=csv&columns=date,close,adjClose,adjVolume&token=72b7d80c10cbdbdc839fe9556a7a004af06cf83c'\n",
      "For more information check: https://developer.mozilla.org/en-US/docs/Web/HTTP/Status/404\n",
      "ERROR:src.fetch:response.text for BC/PC is None.\n"
     ]
    },
    {
     "name": "stdout",
     "output_type": "stream",
     "text": [
      "Fetching 4500 to 4750 of 8493\n",
      "Fetching 4750 to 5000 of 8493\n"
     ]
    },
    {
     "name": "stderr",
     "output_type": "stream",
     "text": [
      "ERROR:src.fetch:An error occurred while requesting https://api.tiingo.com/tiingo/daily/LANC/prices?startDate=1995-01-01&format=csv&columns=date,close,adjClose,adjVolume&token=72b7d80c10cbdbdc839fe9556a7a004af06cf83c: [Errno 8] nodename nor servname provided, or not known\n",
      "ERROR:src.fetch:response.text for LANC is None.\n",
      "ERROR:src.fetch:An error occurred while requesting https://api.tiingo.com/tiingo/daily/NGA-WS/prices?startDate=1995-01-01&format=csv&columns=date,close,adjClose,adjVolume&token=72b7d80c10cbdbdc839fe9556a7a004af06cf83c: [Errno 8] nodename nor servname provided, or not known\n",
      "ERROR:src.fetch:response.text for NGA-WS is None.\n"
     ]
    },
    {
     "name": "stdout",
     "output_type": "stream",
     "text": [
      "Fetching 5000 to 5250 of 8493\n",
      "Fetching 5250 to 5500 of 8493\n"
     ]
    },
    {
     "name": "stderr",
     "output_type": "stream",
     "text": [
      "ERROR:src.fetch:Invalid response for TFG.\n",
      "ERROR:src.fetch:Invalid response for ABDC.\n"
     ]
    },
    {
     "name": "stdout",
     "output_type": "stream",
     "text": [
      "Fetching 5500 to 5750 of 8493\n",
      "Fetching 5750 to 6000 of 8493\n",
      "Fetching 6000 to 6250 of 8493\n",
      "Fetching 6250 to 6500 of 8493\n"
     ]
    },
    {
     "name": "stderr",
     "output_type": "stream",
     "text": [
      "ERROR:src.fetch:An error occurred while requesting https://api.tiingo.com/tiingo/daily/XYLD/prices?startDate=1995-01-01&format=csv&columns=date,close,adjClose,adjVolume&token=72b7d80c10cbdbdc839fe9556a7a004af06cf83c: [Errno 8] nodename nor servname provided, or not known\n",
      "ERROR:src.fetch:response.text for XYLD is None.\n",
      "ERROR:src.fetch:Invalid response for ACAMU.\n"
     ]
    },
    {
     "name": "stdout",
     "output_type": "stream",
     "text": [
      "Fetching 6500 to 6750 of 8493\n",
      "Fetching 6750 to 7000 of 8493\n",
      "Fetching 7000 to 7250 of 8493\n",
      "Fetching 7250 to 7500 of 8493\n",
      "Fetching 7500 to 7750 of 8493\n"
     ]
    },
    {
     "name": "stderr",
     "output_type": "stream",
     "text": [
      "ERROR:src.fetch:HTTP status error for https://api.tiingo.com/tiingo/daily/BC/PA/prices?startDate=1995-01-01&format=csv&columns=date,close,adjClose,adjVolume&token=72b7d80c10cbdbdc839fe9556a7a004af06cf83c: Client error '404 Not Found' for url 'https://api.tiingo.com/tiingo/daily/BC/PA/prices?startDate=1995-01-01&format=csv&columns=date,close,adjClose,adjVolume&token=72b7d80c10cbdbdc839fe9556a7a004af06cf83c'\n",
      "For more information check: https://developer.mozilla.org/en-US/docs/Web/HTTP/Status/404\n",
      "ERROR:src.fetch:response.text for BC/PA is None.\n"
     ]
    },
    {
     "name": "stdout",
     "output_type": "stream",
     "text": [
      "Fetching 7750 to 8000 of 8493\n"
     ]
    },
    {
     "name": "stderr",
     "output_type": "stream",
     "text": [
      "ERROR:src.fetch:Invalid response for ILG.\n"
     ]
    },
    {
     "name": "stdout",
     "output_type": "stream",
     "text": [
      "Fetching 8000 to 8250 of 8493\n",
      "Fetching 8250 to 8500 of 8493\n"
     ]
    },
    {
     "name": "stderr",
     "output_type": "stream",
     "text": [
      "ERROR:src.fetch:Invalid response for TFM.\n"
     ]
    }
   ],
   "source": [
    "# Step 1. Wait for the next clock hour to ingest the second half (due to 10k API limit per hour)\n",
    "await fetcher.fetch_all(\n",
    "    df=df_second,\n",
    "    columns=columns,\n",
    "    async_batch_size=250\n",
    ")"
   ]
  },
  {
   "cell_type": "markdown",
   "metadata": {},
   "source": [
    "# Ingest to DuckDB / Motherduck\n",
    "\n"
   ]
  },
  {
   "cell_type": "code",
   "execution_count": 10,
   "metadata": {},
   "outputs": [],
   "source": [
    "importlib.reload(src.ingest)\n",
    "ingestor = src.ingest.Ingest(\n",
    "    db_path=f\"md:prod?motherduck_token={environ[\"MOTHERDUCK_TOKEN\"]}\",\n",
    "    sql_dir=\"../sql\",\n",
    ")"
   ]
  },
  {
   "cell_type": "code",
   "execution_count": null,
   "metadata": {},
   "outputs": [],
   "source": [
    "# ingestor.create_table(file_name=\"table__daily_adjusted.sql\")"
   ]
  },
  {
   "cell_type": "code",
   "execution_count": 15,
   "metadata": {},
   "outputs": [],
   "source": [
    "ingestor.con.sql(\"insert or replace into daily_adjusted select * from 'data/prod_2024-05-24_2ndHalf/*.csv'\")"
   ]
  },
  {
   "cell_type": "code",
   "execution_count": 16,
   "metadata": {},
   "outputs": [],
   "source": [
    "# Step 2 Run this after the next clock hour\n",
    "# ingestor.ingest_data(dst_table=\"daily_adjusted\", data=\"data/prod_2024-05-24_2ndHalf/*.csv\")"
   ]
  },
  {
   "cell_type": "code",
   "execution_count": null,
   "metadata": {},
   "outputs": [],
   "source": [
    "ingestor.cur.sql(\"SELECT COUNT(*) FROM daily_adjusted\")"
   ]
  },
  {
   "cell_type": "code",
   "execution_count": null,
   "metadata": {},
   "outputs": [],
   "source": [
    "ingestor.close()"
   ]
  },
  {
   "cell_type": "markdown",
   "metadata": {},
   "source": [
    "## Last trading day snapshot\n",
    "\n",
    "This request downloads latest prices for all tickers avaialable in the Tiingo end-of-day API."
   ]
  },
  {
   "cell_type": "code",
   "execution_count": null,
   "metadata": {},
   "outputs": [
    {
     "data": {
      "text/plain": [
       "404"
      ]
     },
     "execution_count": 8,
     "metadata": {},
     "output_type": "execute_result"
    }
   ],
   "source": [
    "response = httpx.get(f\"https://api.tiingo.com/tiingo/daily/prices?format=csv=&token={environ['TIINGO_TOKEN']}\")\n",
    "response.status_code"
   ]
  },
  {
   "cell_type": "code",
   "execution_count": null,
   "metadata": {},
   "outputs": [
    {
     "data": {
      "text/plain": [
       "23"
      ]
     },
     "execution_count": 9,
     "metadata": {},
     "output_type": "execute_result"
    }
   ],
   "source": [
    "path = pathlib.Path(\"data/daily/snapshot_2024-05-20.csv\")\n",
    "path.write_text(response.text)"
   ]
  },
  {
   "cell_type": "code",
   "execution_count": null,
   "metadata": {},
   "outputs": [],
   "source": []
  }
 ],
 "metadata": {
  "kernelspec": {
   "display_name": ".venv",
   "language": "python",
   "name": "python3"
  },
  "language_info": {
   "codemirror_mode": {
    "name": "ipython",
    "version": 3
   },
   "file_extension": ".py",
   "mimetype": "text/x-python",
   "name": "python",
   "nbconvert_exporter": "python",
   "pygments_lexer": "ipython3",
   "version": "3.12.6"
  }
 },
 "nbformat": 4,
 "nbformat_minor": 2
}
